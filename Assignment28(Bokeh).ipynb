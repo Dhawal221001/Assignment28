{
  "nbformat": 4,
  "nbformat_minor": 0,
  "metadata": {
    "colab": {
      "provenance": []
    },
    "kernelspec": {
      "name": "python3",
      "display_name": "Python 3"
    },
    "language_info": {
      "name": "python"
    }
  },
  "cells": [
    {
      "cell_type": "markdown",
      "source": [
        "Q1. How can you create a Bokeh plot using Python code?"
      ],
      "metadata": {
        "id": "Q0NpPm7UllDn"
      }
    },
    {
      "cell_type": "markdown",
      "source": [
        "Steps:\n",
        "\n",
        "pip install bokeh\n",
        "\n",
        "import bokeh.io\n",
        "\n",
        "import bokeh.plotting\n",
        "\n",
        "bokeh.io.output_notebook()\n",
        "\n",
        "\n",
        "\n"
      ],
      "metadata": {
        "id": "Ze5fohYkmJ7N"
      }
    },
    {
      "cell_type": "markdown",
      "source": [
        "Q2. What are glyphs in Bokeh, and how can you add them to a Bokeh plot? Explain with an example."
      ],
      "metadata": {
        "id": "p6OsdXurm_7E"
      }
    },
    {
      "cell_type": "markdown",
      "source": [
        "In Bokeh, Glyphs are visual shapes that are used to represent the data points in a plot. They define the basic geometry of the plot, such as the shape, size, and color of the markers used to represent the data."
      ],
      "metadata": {
        "id": "3t35I8TrnE8C"
      }
    },
    {
      "cell_type": "markdown",
      "source": [
        "Q3. How can you customize the appearance of a Bokeh plot, including the axes, title, and legend?"
      ],
      "metadata": {
        "id": "s08Ety6xnm6G"
      }
    },
    {
      "cell_type": "markdown",
      "source": [
        "<plot_name>.legend/xaxis/yaxis/title/legend.customization_type= \"customization_value\""
      ],
      "metadata": {
        "id": "24v4SBR7olgF"
      }
    },
    {
      "cell_type": "markdown",
      "source": [
        "Q4. What is a Bokeh server, and how can you use it to create interactive plots that can be updated in\n",
        "real time?"
      ],
      "metadata": {
        "id": "_yjUrNu_pDGI"
      }
    },
    {
      "cell_type": "markdown",
      "source": [
        "Bokeh server makes it easy to create interactive web applications that connect front-end UI events to running Python code.\n",
        "\n",
        "Bokeh creates high-level Python models, such as plots, ranges, axes, and glyphs, and then converts these objects to JSON to pass them to its client library, BokehJS."
      ],
      "metadata": {
        "id": "cMpGXuJQpG23"
      }
    },
    {
      "cell_type": "markdown",
      "source": [
        "Q5. How can you embed a Bokeh plot into a web page or dashboard using Flask or Django?"
      ],
      "metadata": {
        "id": "WGK0Fb3dpHjX"
      }
    },
    {
      "cell_type": "markdown",
      "source": [
        "from bokeh.embed import file_html\n",
        "\n",
        "plot = figure()\n",
        "\n",
        "plot.circle([1,2], [3,4])\n",
        "\n",
        "html = file_html(plot, CDN, \"my plot\")"
      ],
      "metadata": {
        "id": "Nw7eZwUwpbsS"
      }
    },
    {
      "cell_type": "code",
      "source": [],
      "metadata": {
        "id": "di649l8SnpJA"
      },
      "execution_count": null,
      "outputs": []
    }
  ]
}